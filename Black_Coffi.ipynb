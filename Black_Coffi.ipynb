{
  "nbformat": 4,
  "nbformat_minor": 0,
  "metadata": {
    "colab": {
      "provenance": []
    },
    "kernelspec": {
      "name": "python3",
      "display_name": "Python 3"
    },
    "language_info": {
      "name": "python"
    }
  },
  "cells": [
    {
      "cell_type": "code",
      "execution_count": null,
      "metadata": {
        "id": "Nng3WoxoqIq_"
      },
      "outputs": [],
      "source": [
        "import requests\n",
        "from bs4 import BeautifulSoup\n",
        "import pandas as pd"
      ]
    },
    {
      "cell_type": "code",
      "source": [
        "df = pd.read_excel(\"/content/Input.xlsx\")"
      ],
      "metadata": {
        "id": "m-5Y65hmqe4O"
      },
      "execution_count": null,
      "outputs": []
    },
    {
      "cell_type": "code",
      "source": [
        "df.head()"
      ],
      "metadata": {
        "colab": {
          "base_uri": "https://localhost:8080/",
          "height": 206
        },
        "id": "i6LnukGCqr29",
        "outputId": "8c21f25a-df5f-42a5-bb8b-463258562bd6"
      },
      "execution_count": 100,
      "outputs": [
        {
          "output_type": "execute_result",
          "data": {
            "text/plain": [
              "   URL_ID                                                URL\n",
              "0    37.0  https://insights.blackcoffer.com/ai-in-healthc...\n",
              "1    38.0  https://insights.blackcoffer.com/what-if-the-c...\n",
              "2    39.0  https://insights.blackcoffer.com/what-jobs-wil...\n",
              "3    40.0  https://insights.blackcoffer.com/will-machine-...\n",
              "4    41.0  https://insights.blackcoffer.com/will-ai-repla..."
            ],
            "text/html": [
              "\n",
              "  <div id=\"df-57093b98-f56a-4f65-b4a0-b85fadbceda6\">\n",
              "    <div class=\"colab-df-container\">\n",
              "      <div>\n",
              "<style scoped>\n",
              "    .dataframe tbody tr th:only-of-type {\n",
              "        vertical-align: middle;\n",
              "    }\n",
              "\n",
              "    .dataframe tbody tr th {\n",
              "        vertical-align: top;\n",
              "    }\n",
              "\n",
              "    .dataframe thead th {\n",
              "        text-align: right;\n",
              "    }\n",
              "</style>\n",
              "<table border=\"1\" class=\"dataframe\">\n",
              "  <thead>\n",
              "    <tr style=\"text-align: right;\">\n",
              "      <th></th>\n",
              "      <th>URL_ID</th>\n",
              "      <th>URL</th>\n",
              "    </tr>\n",
              "  </thead>\n",
              "  <tbody>\n",
              "    <tr>\n",
              "      <th>0</th>\n",
              "      <td>37.0</td>\n",
              "      <td>https://insights.blackcoffer.com/ai-in-healthc...</td>\n",
              "    </tr>\n",
              "    <tr>\n",
              "      <th>1</th>\n",
              "      <td>38.0</td>\n",
              "      <td>https://insights.blackcoffer.com/what-if-the-c...</td>\n",
              "    </tr>\n",
              "    <tr>\n",
              "      <th>2</th>\n",
              "      <td>39.0</td>\n",
              "      <td>https://insights.blackcoffer.com/what-jobs-wil...</td>\n",
              "    </tr>\n",
              "    <tr>\n",
              "      <th>3</th>\n",
              "      <td>40.0</td>\n",
              "      <td>https://insights.blackcoffer.com/will-machine-...</td>\n",
              "    </tr>\n",
              "    <tr>\n",
              "      <th>4</th>\n",
              "      <td>41.0</td>\n",
              "      <td>https://insights.blackcoffer.com/will-ai-repla...</td>\n",
              "    </tr>\n",
              "  </tbody>\n",
              "</table>\n",
              "</div>\n",
              "      <button class=\"colab-df-convert\" onclick=\"convertToInteractive('df-57093b98-f56a-4f65-b4a0-b85fadbceda6')\"\n",
              "              title=\"Convert this dataframe to an interactive table.\"\n",
              "              style=\"display:none;\">\n",
              "        \n",
              "  <svg xmlns=\"http://www.w3.org/2000/svg\" height=\"24px\"viewBox=\"0 0 24 24\"\n",
              "       width=\"24px\">\n",
              "    <path d=\"M0 0h24v24H0V0z\" fill=\"none\"/>\n",
              "    <path d=\"M18.56 5.44l.94 2.06.94-2.06 2.06-.94-2.06-.94-.94-2.06-.94 2.06-2.06.94zm-11 1L8.5 8.5l.94-2.06 2.06-.94-2.06-.94L8.5 2.5l-.94 2.06-2.06.94zm10 10l.94 2.06.94-2.06 2.06-.94-2.06-.94-.94-2.06-.94 2.06-2.06.94z\"/><path d=\"M17.41 7.96l-1.37-1.37c-.4-.4-.92-.59-1.43-.59-.52 0-1.04.2-1.43.59L10.3 9.45l-7.72 7.72c-.78.78-.78 2.05 0 2.83L4 21.41c.39.39.9.59 1.41.59.51 0 1.02-.2 1.41-.59l7.78-7.78 2.81-2.81c.8-.78.8-2.07 0-2.86zM5.41 20L4 18.59l7.72-7.72 1.47 1.35L5.41 20z\"/>\n",
              "  </svg>\n",
              "      </button>\n",
              "      \n",
              "  <style>\n",
              "    .colab-df-container {\n",
              "      display:flex;\n",
              "      flex-wrap:wrap;\n",
              "      gap: 12px;\n",
              "    }\n",
              "\n",
              "    .colab-df-convert {\n",
              "      background-color: #E8F0FE;\n",
              "      border: none;\n",
              "      border-radius: 50%;\n",
              "      cursor: pointer;\n",
              "      display: none;\n",
              "      fill: #1967D2;\n",
              "      height: 32px;\n",
              "      padding: 0 0 0 0;\n",
              "      width: 32px;\n",
              "    }\n",
              "\n",
              "    .colab-df-convert:hover {\n",
              "      background-color: #E2EBFA;\n",
              "      box-shadow: 0px 1px 2px rgba(60, 64, 67, 0.3), 0px 1px 3px 1px rgba(60, 64, 67, 0.15);\n",
              "      fill: #174EA6;\n",
              "    }\n",
              "\n",
              "    [theme=dark] .colab-df-convert {\n",
              "      background-color: #3B4455;\n",
              "      fill: #D2E3FC;\n",
              "    }\n",
              "\n",
              "    [theme=dark] .colab-df-convert:hover {\n",
              "      background-color: #434B5C;\n",
              "      box-shadow: 0px 1px 3px 1px rgba(0, 0, 0, 0.15);\n",
              "      filter: drop-shadow(0px 1px 2px rgba(0, 0, 0, 0.3));\n",
              "      fill: #FFFFFF;\n",
              "    }\n",
              "  </style>\n",
              "\n",
              "      <script>\n",
              "        const buttonEl =\n",
              "          document.querySelector('#df-57093b98-f56a-4f65-b4a0-b85fadbceda6 button.colab-df-convert');\n",
              "        buttonEl.style.display =\n",
              "          google.colab.kernel.accessAllowed ? 'block' : 'none';\n",
              "\n",
              "        async function convertToInteractive(key) {\n",
              "          const element = document.querySelector('#df-57093b98-f56a-4f65-b4a0-b85fadbceda6');\n",
              "          const dataTable =\n",
              "            await google.colab.kernel.invokeFunction('convertToInteractive',\n",
              "                                                     [key], {});\n",
              "          if (!dataTable) return;\n",
              "\n",
              "          const docLinkHtml = 'Like what you see? Visit the ' +\n",
              "            '<a target=\"_blank\" href=https://colab.research.google.com/notebooks/data_table.ipynb>data table notebook</a>'\n",
              "            + ' to learn more about interactive tables.';\n",
              "          element.innerHTML = '';\n",
              "          dataTable['output_type'] = 'display_data';\n",
              "          await google.colab.output.renderOutput(dataTable, element);\n",
              "          const docLink = document.createElement('div');\n",
              "          docLink.innerHTML = docLinkHtml;\n",
              "          element.appendChild(docLink);\n",
              "        }\n",
              "      </script>\n",
              "    </div>\n",
              "  </div>\n",
              "  "
            ]
          },
          "metadata": {},
          "execution_count": 100
        }
      ]
    },
    {
      "cell_type": "code",
      "source": [
        "df.iloc[0]"
      ],
      "metadata": {
        "colab": {
          "base_uri": "https://localhost:8080/"
        },
        "id": "K1EO22qWqvVK",
        "outputId": "dca9e719-3a23-4d97-c59f-b4f534b1c73e"
      },
      "execution_count": null,
      "outputs": [
        {
          "output_type": "execute_result",
          "data": {
            "text/plain": [
              "URL_ID                                                 37.0\n",
              "URL       https://insights.blackcoffer.com/ai-in-healthc...\n",
              "Name: 0, dtype: object"
            ]
          },
          "metadata": {},
          "execution_count": 67
        }
      ]
    },
    {
      "cell_type": "code",
      "source": [],
      "metadata": {
        "id": "kd-aPgfMTHX_"
      },
      "execution_count": 142,
      "outputs": []
    },
    {
      "cell_type": "code",
      "source": [
        "headers = {\n",
        "    'User-Agent': 'Mozilla/5.0 (Macintosh; Intel Mac OS X 10.12; rv:55.0) Gecko/20100101 Firefox/55.0',\n",
        "}\n",
        "\n",
        "URL = \"https://insights.blackcoffer.com/ai-in-healthcare-to-improve-patient-outcomes/\"\n",
        "source = requests.get(URL, headers=headers).text\n",
        "data = BeautifulSoup(source, 'lxml')"
      ],
      "metadata": {
        "id": "D7BJiCfEqQLw"
      },
      "execution_count": null,
      "outputs": []
    },
    {
      "cell_type": "code",
      "source": [],
      "metadata": {
        "id": "FDRJ1aNHrtFh"
      },
      "execution_count": null,
      "outputs": []
    },
    {
      "cell_type": "code",
      "source": [
        "title = data.find(\"h1\",class_=\"entry-title\").text\n",
        "title"
      ],
      "metadata": {
        "colab": {
          "base_uri": "https://localhost:8080/",
          "height": 35
        },
        "id": "ALXwsDzCrPgr",
        "outputId": "6dde23d4-a97b-4a17-ab51-5186e493e954"
      },
      "execution_count": null,
      "outputs": [
        {
          "output_type": "execute_result",
          "data": {
            "text/plain": [
              "'AI in healthcare to Improve Patient Outcomes'"
            ],
            "application/vnd.google.colaboratory.intrinsic+json": {
              "type": "string"
            }
          },
          "metadata": {},
          "execution_count": 69
        }
      ]
    },
    {
      "cell_type": "code",
      "source": [
        "desc = data.find(\"div\",class_=\"td-post-content\").text"
      ],
      "metadata": {
        "id": "LsXZSrOJrdrC"
      },
      "execution_count": null,
      "outputs": []
    },
    {
      "cell_type": "code",
      "source": [
        "desc"
      ],
      "metadata": {
        "colab": {
          "base_uri": "https://localhost:8080/",
          "height": 122
        },
        "id": "Qq17V1jQs4mb",
        "outputId": "c0a32af6-8406-401c-8a25-bdfab2c69148"
      },
      "execution_count": null,
      "outputs": [
        {
          "output_type": "execute_result",
          "data": {
            "text/plain": [
              "'\\nIntroduction\\n“If anything kills over 10 million people in the next few decades, it will be a highly infectious virus rather than a war. Not missiles but microbes.” Bill Gates’s remarks at a TED conference in 2014, right after the world had avoided the Ebola outbreak. When the new, unprecedented, invisible virus hit us, it met an overwhelmed and unprepared healthcare system and oblivious population. This public health emergency demonstrated our lack of scientific consideration and underlined the alarming need for robust innovations in our health and medical facilities. For the past few years, artificial intelligence has proven to be of tangible potential in the healthcare sectors, clinical practices, translational medical and biomedical research.\\nAfter the first case was detected in China on December 31st 2019, it was an AI program developed by BlueDot that alerted the world about the pandemic. It was quick to realise AI’s ability to analyse large chunks of data could help in detecting patterns and identifying and tracking the possible carriers of the virus.\\nMany tracing apps use AI to keep tabs on the people who have been infected and prevent the risk of cross-infection by using AI algorithms that can track patterns and extract some features to classify or categorise them.\\nSo how does AI do that?\\nIBM Watson, a sophisticated AI that works on cloud computing and natural language processing, has prominently contributed to the healthcare sector on a global level. Being a conversational AI, since 2013, Watson has helped in recommending treatments to patients suffering from cancer to ensure that they get the best treatment at optimum costs.\\n\\nResearchers at Google Inc. showed that an AI system can be trained on thousands of images to achieve physician-level sensitivity.\\nBy identifying the molecular patterns associated with disease status and its subtypes, gene expression, and protein abundance levels, machine learning methods can detect fatal diseases like cancer at an early stage. Machine Learning (ML) techniques focus mainly on analyzing structured data, which can further help in clustering patients’ traits and infer the probability of disease outcomes. Since patient traits mainly include masses of data relating to age, gender, disease history, disease-specific data like diagnostic imaging and gene expressions, etc, ML can extract features from these data inputs by constructing data analytical algorithms.\\nML algorithms are either supervised or unsupervised. Unsupervised learning helps in extracting features and clustering similar features together that further leads to early detection of diseases. Clustering and principal component analysis enable grouping or clustering of similar traits together that are further used to maximize or minimize the similarity between the patients within or between the clusters. Since patient traits are recorded in multiple dimensions, such as genes, principal component analysis(PCA) creates the apparatus to reduce these dimensions which humans could have not done alone.\\nSupervised learning considers the outcomes of the subjects together with the traits, and further correlates the inputs with the outputs to predict the probability of getting a particular clinical event, expected value of a disease level or expected survival time, or risk of Down’s syndrome.\\nBiomarker panels that are mostly used to detect ovarian cancer, have outperformed the conventional statistical methods due to machine learning. In addition to this, the use of EHRs and Bayesian networks, which are a part of supervised machine learning algorithms, can predict clinical outcomes and mortality respectively.\\nUnstructured data such as clinical notes and texts are converted into machine-readable structured data with the help of natural language processing(NLP). NLP works with two components: text processing and classification. Text processing helps in identifying a series of disease-relevant keywords in clinical notes and then through classification are further categorized into normal and abnormal cases. Chest screening through ML and NLP has helped find abnormalities in the lungs and provide treatment to covid patients. Healthcare organizations use NLP-based chatbots to increase interactions with patients, keeping their mental health and wellness in check.\\nDeep learning is a modern extension of the classical neural network techniques which helps explore more complex non-linear patterns in data, using algorithms like convolution neural network, recurrent neural network, deep belief network, and deep neural network which enables more accurate clinical prediction. When it comes to genome interpretation, deep neural networks surpass the conventional methods of logistics regression and support vector machines.\\nSepsis Watch is an AI system trained in deep learning algorithms that holds the capability to analyze over 32 million data points to create a patient’s risk score and identify the early stages of sepsis.\\nAnother method known as the Learning-based Optimization of the Under Sampling Pattern( LOUPE) is based on integrating full resolution MRI scans with the convolutional neural network algorithm, which helps in creating more accurate reconstructions.\\nRobotic surgery is widely considered in most delicate surgeries like gynaecology and prostate surgery. Even after striking the right balance between human decisions and AI precision, robotic surgery reduces surgeon efficiency as they have to be manually operated through a console. Thus, autonomous robotic surgery is on the rise with inventions such as robotic silicon fingers that mimic the sense of touch that surgeons need to identify organs, cut tissues, etc., or robotic catheters that can navigate whether it is touching blood, tissue, or valve.\\nResearchers at Children’s National Hospital, Washington have already developed an AI called Smart Tissue Autonomous Robot (STAR), which performs a colon anastomosis on its own with the help of an ML-powered suturing tool, that automatically detects the patient’s breathing pattern to apply suture at the correct point.\\nAn image of STAR during surgery.\\nCloud computing in healthcare has helped in retrieving and sharing medical records safely with a reduction in maintenance costs. Through this technology doctors and various healthcare workers have access to detailed patient data that helps in speeding up analysis ultimately leading to better care in the form of more accurate information, medications, and therapies.\\nHow can It help in Biomedical research?\\nSince AI can analyze literature beyond readability, it can be used to concise biomedical research. With the help of ML algorithms and NLP, AI can accelerate screening and indexing of biomedical research, by ranking the literature of interest which allows researchers to formulate and test scientific hypotheses far more precisely and quickly. Taking it to the next level, AI systems like the computational modelling assistant (CMA) helps researchers to construct simulation models from the concepts they have in mind. Such innovations have majorly contributed to topics such as tumour suppressor mechanisms and protein-protein interaction information extraction.\\nAI as precision medicine\\nSince precision medicine focuses on healthcare interventions to individuals or groups of patients based on their profile, the various AI devices pave the way to practice it more efficiently. With the help of ML, complex algorithms like large datasets can be used to predict and create an optimal treatment strategy.\\nDeep learning and neural networks can be used to process data in healthcare apps and keep a close watch on the patient’s emotional state, food intake, or health monitoring.\\xa0\\n“Omics” refers to the collective technologies that help in exploring the roles, relationships of various branches ending with the suffix “omics” such as genomics, proteomics, etc. Omics-based tests based on machine learning algorithms help find correlations and predict treatment responses, ultimately creating personalized treatments for individual patients.\\xa0\\nHow it helps in psychology and neuro patients\\nFor psychologists studying creativity,\\xa0 AI is promising new classes of experiments that are developing data structures and programs and exploring novel theories on a new horizon. Studies show that \\xa0AI can conduct therapy sessions, e-therapy sessions, and assessments autonomously, also assisting human practitioners before, during, or after sessions. The Detection and Computational Analysis of Psychological Signal project uses ML, computer vision, and NLP to analyze language, physical gestures, and social signals to identify cues for human distress. This ground-breaking technology assesses soldiers returning from combat and recognizes those who require further mental health support. In the future, it will combine data captured during face-to-face interviews with information on sleeping, eating, and online behaviours for a complete patient view.\\nStroke identification\\nStroke is another frequently occurring disease that affects more than 500 million people worldwide. Thrombus,\\xa0 in the vessel cerebral infarction is the major (about 85%) cause of stroke occurrence. In recent years, AI techniques have been used in numerous stroke-related studies as early detection and timely treatment along with efficient outcome prediction can help solve the problem. With AI at our disposal, large amounts of data with rich information, more complications and real-life clinical questions can be addressed in this arena. Currently, two ML algorithms- genetic fuzzy finite state machine and PCA were implemented to build a model building solution. These include a human activity recognition stage and a stroke onset detection stage. An alert stroke message is activated as soon as a movement significantly different from the normal pattern is recorded. ML methods have been applied to neuroimaging data to assist disease evaluation and predicting stroke treatment for the diagnosis.\\nPatient Monitoring\\nToday, the market for AI-based patient monitoring is impressive and monetarily enticing. It is evolving with artificial sensors, smart technologies and explores everything from brain-computer interfaces to nanorobotics. Companies with their smart-watches have engaged people to perform remote monitoring even when they are not “patients”. An obvious place to start is with wearable and embedded sensors, glucose monitors, pulse monitors, oximeters, and ECG monitors. With patient monitoring becoming crucial, AI finds numerous applications in chronic conditions, intensive care units, operating rooms, emergency rooms, and cardiac wards where timeless clinical decision-making can be measured in seconds. More advances have started to gain traction like smart prosthetics and implants. These play an impeccable role in patient management post-surgery or rehabilitation. Demographics, laboratory results and vital signs can also be used to predict cardiac arrest, transfer into the intensive care unit, or even death. In addition, an interpretable machine-learning model can assist anesthesiologists in predicting hypoxaemia events during surgery. This suggests that with deep-learning algorithms, raw patient-monitoring data could be better used to avoid information overload and alert overload while enabling more accurate clinical prediction and timely decision-making.\\n\\n\\xa0Conclusion\\nConsidering the vast range of tasks that an AI can do, it is evident that it holds deep potential in improving patient outcomes to skyrocketing levels. Using sophisticated algorithms AI can bring a revolution in the healthcare sector. Even after facing challenges like whether the technology will be able to deliver the promises, ethical measures, training physicians to use it, standard regulations etc, the role of AI in transforming the clinical practices cannot be ignored. The biggest challenge is the integration of AI in daily practice. All of these can be overcome and within that period the technologies will mature making the system far more enhanced and effective.\\nBlackcoffer Insights 29: Sanskriti Sunderum and Aayushi Nauhwar, SRCC, Delhi University\\n'"
            ],
            "application/vnd.google.colaboratory.intrinsic+json": {
              "type": "string"
            }
          },
          "metadata": {},
          "execution_count": 71
        }
      ]
    },
    {
      "cell_type": "code",
      "source": [
        "import string\n",
        "import re\n",
        "import nltk\n",
        "import os\n",
        "punch = string.punctuation"
      ],
      "metadata": {
        "id": "BtVFrsLOtAWr"
      },
      "execution_count": null,
      "outputs": []
    },
    {
      "cell_type": "code",
      "source": [
        " nltk.download('stopwords')\n",
        " nltk.download('wordnet')\n",
        "nltk.download('omw-1.4')\n",
        "nltk.download('punkt')"
      ],
      "metadata": {
        "colab": {
          "base_uri": "https://localhost:8080/"
        },
        "id": "Qtl27BdHv4Q9",
        "outputId": "8fd806be-7f1d-4c6e-e68e-b96a9be74a6c"
      },
      "execution_count": null,
      "outputs": [
        {
          "output_type": "stream",
          "name": "stderr",
          "text": [
            "[nltk_data] Downloading package stopwords to /root/nltk_data...\n",
            "[nltk_data]   Package stopwords is already up-to-date!\n",
            "[nltk_data] Downloading package wordnet to /root/nltk_data...\n",
            "[nltk_data]   Package wordnet is already up-to-date!\n",
            "[nltk_data] Downloading package omw-1.4 to /root/nltk_data...\n",
            "[nltk_data]   Package omw-1.4 is already up-to-date!\n",
            "[nltk_data] Downloading package punkt to /root/nltk_data...\n",
            "[nltk_data]   Package punkt is already up-to-date!\n"
          ]
        },
        {
          "output_type": "execute_result",
          "data": {
            "text/plain": [
              "True"
            ]
          },
          "metadata": {},
          "execution_count": 73
        }
      ]
    },
    {
      "cell_type": "code",
      "source": [
        "def clean_text(text):\n",
        "    non_punch = ''\n",
        "    for i in text:\n",
        "        if i not in string.punctuation:\n",
        "            non_punch += i\n",
        "    split_text = re.split('\\W+',non_punch)\n",
        "    stop = nltk.corpus.stopwords.words('english')\n",
        "    wn = nltk.WordNetLemmatizer()\n",
        "    return \" \".join([wn.lemmatize(word).lower() for word in split_text])"
      ],
      "metadata": {
        "id": "5Aac0VQEvli0"
      },
      "execution_count": null,
      "outputs": []
    },
    {
      "cell_type": "code",
      "source": [
        "path = \"/content/stopwords\"\n",
        "dir_list = os.listdir(path)"
      ],
      "metadata": {
        "id": "1cFPP3_uyodx"
      },
      "execution_count": null,
      "outputs": []
    },
    {
      "cell_type": "code",
      "source": [
        "dir_list"
      ],
      "metadata": {
        "colab": {
          "base_uri": "https://localhost:8080/"
        },
        "id": "bcroxOCp0lO7",
        "outputId": "0653c463-e41d-49cd-9e5e-b13386b49270"
      },
      "execution_count": null,
      "outputs": [
        {
          "output_type": "execute_result",
          "data": {
            "text/plain": [
              "['StopWords_Generic.txt',\n",
              " 'StopWords_Auditor.txt',\n",
              " 'StopWords_Geographic.txt',\n",
              " 'StopWords_Names.txt',\n",
              " 'StopWords_GenericLong.txt',\n",
              " 'StopWords_Currencies.txt',\n",
              " 'StopWords_DatesandNumbers.txt']"
            ]
          },
          "metadata": {},
          "execution_count": 76
        }
      ]
    },
    {
      "cell_type": "code",
      "source": [
        "stopWords = []\n",
        "for p in dir_list:\n",
        "  stopWords += open(path+\"/\"+p,\"r\", encoding='utf-8').read().split(\"\\n\")"
      ],
      "metadata": {
        "id": "jywTT3jZzriv"
      },
      "execution_count": null,
      "outputs": []
    },
    {
      "cell_type": "code",
      "source": [
        "len(stopWords)"
      ],
      "metadata": {
        "colab": {
          "base_uri": "https://localhost:8080/"
        },
        "id": "gAMn0Bgp15mo",
        "outputId": "65e1f2ff-8781-47a4-fcbf-f38bb40091d0"
      },
      "execution_count": null,
      "outputs": [
        {
          "output_type": "execute_result",
          "data": {
            "text/plain": [
              "14111"
            ]
          },
          "metadata": {},
          "execution_count": 78
        }
      ]
    },
    {
      "cell_type": "code",
      "source": [
        "all_text = title+\" \"+desc\n",
        "content = clean_text(all_text)"
      ],
      "metadata": {
        "id": "WLPNWrcpvoPb"
      },
      "execution_count": 101,
      "outputs": []
    },
    {
      "cell_type": "code",
      "source": [
        "content"
      ],
      "metadata": {
        "colab": {
          "base_uri": "https://localhost:8080/",
          "height": 127
        },
        "id": "l3lG6gLVvy_a",
        "outputId": "8be8342a-ae23-49ae-ecc0-894ecd2c19a6"
      },
      "execution_count": 102,
      "outputs": [
        {
          "output_type": "execute_result",
          "data": {
            "text/plain": [
              "'ai in healthcare to improve patient outcomes introduction if anything kill over 10 million people in the next few decade it will be a highly infectious virus rather than a war not missile but microbe bill gates s remark at a ted conference in 2014 right after the world had avoided the ebola outbreak when the new unprecedented invisible virus hit u it met an overwhelmed and unprepared healthcare system and oblivious population this public health emergency demonstrated our lack of scientific consideration and underlined the alarming need for robust innovation in our health and medical facility for the past few year artificial intelligence ha proven to be of tangible potential in the healthcare sector clinical practice translational medical and biomedical research after the first case wa detected in china on december 31st 2019 it wa an ai program developed by bluedot that alerted the world about the pandemic it wa quick to realise ai s ability to analyse large chunk of data could help in detecting pattern and identifying and tracking the possible carrier of the virus many tracing apps use ai to keep tab on the people who have been infected and prevent the risk of crossinfection by using ai algorithm that can track pattern and extract some feature to classify or categorise them so how doe ai do that ibm watson a sophisticated ai that work on cloud computing and natural language processing ha prominently contributed to the healthcare sector on a global level being a conversational ai since 2013 watson ha helped in recommending treatment to patient suffering from cancer to ensure that they get the best treatment at optimum cost researchers at google inc showed that an ai system can be trained on thousand of image to achieve physicianlevel sensitivity by identifying the molecular pattern associated with disease status and it subtypes gene expression and protein abundance level machine learning method can detect fatal disease like cancer at an early stage machine learning ml technique focus mainly on analyzing structured data which can further help in clustering patient trait and infer the probability of disease outcome since patient trait mainly include mass of data relating to age gender disease history diseasespecific data like diagnostic imaging and gene expression etc ml can extract feature from these data input by constructing data analytical algorithm ml algorithm are either supervised or unsupervised unsupervised learning help in extracting feature and clustering similar feature together that further lead to early detection of disease clustering and principal component analysis enable grouping or clustering of similar trait together that are further used to maximize or minimize the similarity between the patient within or between the cluster since patient trait are recorded in multiple dimension such a gene principal component analysispca creates the apparatus to reduce these dimension which human could have not done alone supervised learning considers the outcome of the subject together with the trait and further correlate the input with the output to predict the probability of getting a particular clinical event expected value of a disease level or expected survival time or risk of down s syndrome biomarker panel that are mostly used to detect ovarian cancer have outperformed the conventional statistical method due to machine learning in addition to this the use of ehrs and bayesian network which are a part of supervised machine learning algorithm can predict clinical outcome and mortality respectively unstructured data such a clinical note and text are converted into machinereadable structured data with the help of natural language processingnlp nlp work with two component text processing and classification text processing help in identifying a series of diseaserelevant keywords in clinical note and then through classification are further categorized into normal and abnormal case chest screening through ml and nlp ha helped find abnormality in the lung and provide treatment to covid patient healthcare organization use nlpbased chatbots to increase interaction with patient keeping their mental health and wellness in check deep learning is a modern extension of the classical neural network technique which help explore more complex nonlinear pattern in data using algorithm like convolution neural network recurrent neural network deep belief network and deep neural network which enables more accurate clinical prediction when it come to genome interpretation deep neural network surpass the conventional method of logistics regression and support vector machine sepsis watch is an ai system trained in deep learning algorithm that hold the capability to analyze over 32 million data point to create a patient s risk score and identify the early stage of sepsis another method known a the learningbased optimization of the under sampling pattern loupe is based on integrating full resolution mri scan with the convolutional neural network algorithm which help in creating more accurate reconstruction robotic surgery is widely considered in most delicate surgery like gynaecology and prostate surgery even after striking the right balance between human decision and ai precision robotic surgery reduces surgeon efficiency a they have to be manually operated through a console thus autonomous robotic surgery is on the rise with invention such a robotic silicon finger that mimic the sense of touch that surgeon need to identify organ cut tissue etc or robotic catheter that can navigate whether it is touching blood tissue or valve researchers at children s national hospital washington have already developed an ai called smart tissue autonomous robot star which performs a colon anastomosis on it own with the help of an mlpowered suturing tool that automatically detects the patient s breathing pattern to apply suture at the correct point an image of star during surgery cloud computing in healthcare ha helped in retrieving and sharing medical record safely with a reduction in maintenance cost through this technology doctor and various healthcare worker have access to detailed patient data that help in speeding up analysis ultimately leading to better care in the form of more accurate information medication and therapy how can it help in biomedical research since ai can analyze literature beyond readability it can be used to concise biomedical research with the help of ml algorithm and nlp ai can accelerate screening and indexing of biomedical research by ranking the literature of interest which allows researcher to formulate and test scientific hypothesis far more precisely and quickly taking it to the next level ai system like the computational modelling assistant cma help researcher to construct simulation model from the concept they have in mind such innovation have majorly contributed to topic such a tumour suppressor mechanism and proteinprotein interaction information extraction ai a precision medicine since precision medicine focus on healthcare intervention to individual or group of patient based on their profile the various ai device pave the way to practice it more efficiently with the help of ml complex algorithm like large datasets can be used to predict and create an optimal treatment strategy deep learning and neural network can be used to process data in healthcare apps and keep a close watch on the patient s emotional state food intake or health monitoring omics refers to the collective technology that help in exploring the role relationship of various branch ending with the suffix omics such a genomics proteomics etc omicsbased test based on machine learning algorithm help find correlation and predict treatment response ultimately creating personalized treatment for individual patient how it help in psychology and neuro patient for psychologist studying creativity ai is promising new class of experiment that are developing data structure and program and exploring novel theory on a new horizon studies show that ai can conduct therapy session etherapy session and assessment autonomously also assisting human practitioner before during or after session the detection and computational analysis of psychological signal project us ml computer vision and nlp to analyze language physical gesture and social signal to identify cue for human distress this groundbreaking technology ass soldier returning from combat and recognizes those who require further mental health support in the future it will combine data captured during facetoface interview with information on sleeping eating and online behaviour for a complete patient view stroke identification stroke is another frequently occurring disease that affect more than 500 million people worldwide thrombus in the vessel cerebral infarction is the major about 85 cause of stroke occurrence in recent year ai technique have been used in numerous strokerelated study a early detection and timely treatment along with efficient outcome prediction can help solve the problem with ai at our disposal large amount of data with rich information more complication and reallife clinical question can be addressed in this arena currently two ml algorithm genetic fuzzy finite state machine and pca were implemented to build a model building solution these include a human activity recognition stage and a stroke onset detection stage an alert stroke message is activated a soon a a movement significantly different from the normal pattern is recorded ml method have been applied to neuroimaging data to assist disease evaluation and predicting stroke treatment for the diagnosis patient monitoring today the market for aibased patient monitoring is impressive and monetarily enticing it is evolving with artificial sensor smart technology and explores everything from braincomputer interface to nanorobotics companies with their smartwatches have engaged people to perform remote monitoring even when they are not patient an obvious place to start is with wearable and embedded sensor glucose monitor pulse monitor oximeter and ecg monitor with patient monitoring becoming crucial ai find numerous application in chronic condition intensive care unit operating room emergency room and cardiac ward where timeless clinical decisionmaking can be measured in second more advance have started to gain traction like smart prosthetics and implant these play an impeccable role in patient management postsurgery or rehabilitation demographics laboratory result and vital sign can also be used to predict cardiac arrest transfer into the intensive care unit or even death in addition an interpretable machinelearning model can assist anesthesiologist in predicting hypoxaemia event during surgery this suggests that with deeplearning algorithm raw patientmonitoring data could be better used to avoid information overload and alert overload while enabling more accurate clinical prediction and timely decisionmaking conclusion considering the vast range of task that an ai can do it is evident that it hold deep potential in improving patient outcome to skyrocketing level using sophisticated algorithm ai can bring a revolution in the healthcare sector even after facing challenge like whether the technology will be able to deliver the promise ethical measure training physician to use it standard regulation etc the role of ai in transforming the clinical practice cannot be ignored the biggest challenge is the integration of ai in daily practice all of these can be overcome and within that period the technology will mature making the system far more enhanced and effective blackcoffer insights 29 sanskriti sunderum and aayushi nauhwar srcc delhi university '"
            ],
            "application/vnd.google.colaboratory.intrinsic+json": {
              "type": "string"
            }
          },
          "metadata": {},
          "execution_count": 102
        }
      ]
    },
    {
      "cell_type": "code",
      "source": [
        "def newContent(text):\n",
        "  newcontent = []\n",
        "  for item in text.split(\" \"):\n",
        "    if item.upper() not in stopWords:\n",
        "      newcontent.append(item)\n",
        "  return newcontent"
      ],
      "metadata": {
        "id": "CqWGgUlewKaM"
      },
      "execution_count": 103,
      "outputs": []
    },
    {
      "cell_type": "code",
      "source": [
        "newc = newContent(content)"
      ],
      "metadata": {
        "id": "zks5PXBFwbmr"
      },
      "execution_count": 104,
      "outputs": []
    },
    {
      "cell_type": "markdown",
      "source": [
        "## Positive and Negative words"
      ],
      "metadata": {
        "id": "W7pPEpue4Akc"
      }
    },
    {
      "cell_type": "code",
      "source": [
        "pword = open(\"/content/master/positive-words.txt\",\"r\").read().split(\"\\n\")"
      ],
      "metadata": {
        "id": "cf6iZg3h3Chb"
      },
      "execution_count": 105,
      "outputs": []
    },
    {
      "cell_type": "code",
      "source": [
        "nword = open(\"/content/master/negative-words.txt\",\"r\", encoding='utf-8').read().split(\"\\n\")"
      ],
      "metadata": {
        "id": "_uh2jIPs4Vnb"
      },
      "execution_count": 106,
      "outputs": []
    },
    {
      "cell_type": "code",
      "source": [
        "positive_score = 0\n",
        "negative_score = 0\n",
        "for word in newc:\n",
        "  if word.lower() in pword:\n",
        "    positive_score += 1\n",
        "  if word.lower() in nword:\n",
        "    negative_score += 1\n",
        "\n",
        "polarity_score = (positive_score - negative_score)/ ((positive_score + negative_score) + 0.000001)"
      ],
      "metadata": {
        "id": "JzAYTVl-4WKT"
      },
      "execution_count": 107,
      "outputs": []
    },
    {
      "cell_type": "markdown",
      "source": [],
      "metadata": {
        "id": "XO2W7Ac20AHq"
      }
    },
    {
      "cell_type": "code",
      "source": [
        "subjectivity_score = (positive_score + negative_score)/ (len(newc) + 0.000001)"
      ],
      "metadata": {
        "id": "7dqByOZOzuaw"
      },
      "execution_count": 108,
      "outputs": []
    },
    {
      "cell_type": "code",
      "source": [
        "subjectivity_score"
      ],
      "metadata": {
        "colab": {
          "base_uri": "https://localhost:8080/"
        },
        "id": "MqKugF5Vz5Ya",
        "outputId": "090edf5e-5159-45c5-dc36-2ad0704aa41f"
      },
      "execution_count": 109,
      "outputs": [
        {
          "output_type": "execute_result",
          "data": {
            "text/plain": [
              "0.10940325487395726"
            ]
          },
          "metadata": {},
          "execution_count": 109
        }
      ]
    },
    {
      "cell_type": "markdown",
      "source": [
        "## Sentance"
      ],
      "metadata": {
        "id": "wEIdos2f04o7"
      }
    },
    {
      "cell_type": "code",
      "source": [
        "sentences= nltk.sent_tokenize(\" \".join(all_text))\n",
        "len(sentences)"
      ],
      "metadata": {
        "colab": {
          "base_uri": "https://localhost:8080/"
        },
        "id": "QrDcNktdz5ec",
        "outputId": "0a938531-c90a-468d-e511-38b5f3dcc06c"
      },
      "execution_count": 111,
      "outputs": [
        {
          "output_type": "execute_result",
          "data": {
            "text/plain": [
              "9"
            ]
          },
          "metadata": {},
          "execution_count": 111
        }
      ]
    },
    {
      "cell_type": "code",
      "source": [
        "def count_syllables(word):\n",
        "    word = word.lower()\n",
        "    counter = 0\n",
        "    is_previous_vowel = False\n",
        "    for index, value in enumerate(word):\n",
        "        if value in [\"a\", \"e\", \"i\", \"o\", \"u\", \"y\"]:\n",
        "            if index == len(word) - 1:\n",
        "                if value == \"e\":\n",
        "                    if counter == 0:\n",
        "                        counter += 1\n",
        "                else:\n",
        "                    counter += 1\n",
        "            else:\n",
        "                if is_previous_vowel == True:\n",
        "                    counter += 1\n",
        "                    is_previous_vowel = False\n",
        "                    break\n",
        "            is_previous_vowel = True\n",
        "        else:\n",
        "            if is_previous_vowel == True:\n",
        "                counter += 1\n",
        "            is_previous_vowel = False\n",
        "    return counter\n",
        "count_syllables(\"coding\")"
      ],
      "metadata": {
        "colab": {
          "base_uri": "https://localhost:8080/"
        },
        "id": "TIjWnKMw7mJx",
        "outputId": "484ae608-b4ee-41ec-f2ec-55fc50acd8af"
      },
      "execution_count": 112,
      "outputs": [
        {
          "output_type": "execute_result",
          "data": {
            "text/plain": [
              "2"
            ]
          },
          "metadata": {},
          "execution_count": 112
        }
      ]
    },
    {
      "cell_type": "code",
      "source": [
        "percentage_of_complex_words = 0\n",
        "for word in newc:\n",
        "  if count_syllables(word) > 2:\n",
        "    percentage_of_complex_words += 1\n",
        "percentage_of_complex_words"
      ],
      "metadata": {
        "colab": {
          "base_uri": "https://localhost:8080/"
        },
        "id": "ixxh-IJI15Yl",
        "outputId": "855b9e29-db60-4040-d061-7838d1177cf1"
      },
      "execution_count": 113,
      "outputs": [
        {
          "output_type": "execute_result",
          "data": {
            "text/plain": [
              "386"
            ]
          },
          "metadata": {},
          "execution_count": 113
        }
      ]
    },
    {
      "cell_type": "code",
      "source": [
        "sents = all_text.split('.')\n",
        "avg_sent_len = sum(len(x.split()) for x in sents) / len(sents)"
      ],
      "metadata": {
        "id": "I_N1cZ-5SNjj"
      },
      "execution_count": 137,
      "outputs": []
    },
    {
      "cell_type": "code",
      "source": [
        "avg_sent_len"
      ],
      "metadata": {
        "colab": {
          "base_uri": "https://localhost:8080/"
        },
        "id": "qTj2S8J_SRKw",
        "outputId": "adc8d41b-3452-4f5a-e138-b86c99f3dd27"
      },
      "execution_count": 138,
      "outputs": [
        {
          "output_type": "execute_result",
          "data": {
            "text/plain": [
              "23.064102564102566"
            ]
          },
          "metadata": {},
          "execution_count": 138
        }
      ]
    },
    {
      "cell_type": "code",
      "source": [
        "syllables_per_word = percentage_of_complex_words/len(newc)\n",
        "syllables_per_word"
      ],
      "metadata": {
        "colab": {
          "base_uri": "https://localhost:8080/"
        },
        "id": "nu4j03Sp8i3n",
        "outputId": "41f67ac2-e54e-432b-802f-43f4d3acadd7"
      },
      "execution_count": 114,
      "outputs": [
        {
          "output_type": "execute_result",
          "data": {
            "text/plain": [
              "0.34900542495479203"
            ]
          },
          "metadata": {},
          "execution_count": 114
        }
      ]
    },
    {
      "cell_type": "code",
      "source": [
        "average_sentence_length = len(newc)/len(sentences)\n",
        "average_sentence_length"
      ],
      "metadata": {
        "colab": {
          "base_uri": "https://localhost:8080/"
        },
        "id": "S9uLKDJq6aNu",
        "outputId": "ea3615a2-48d4-43b2-f9e6-cd00e4b3bc78"
      },
      "execution_count": 115,
      "outputs": [
        {
          "output_type": "execute_result",
          "data": {
            "text/plain": [
              "122.88888888888889"
            ]
          },
          "metadata": {},
          "execution_count": 115
        }
      ]
    },
    {
      "cell_type": "code",
      "source": [
        "fog_index = 0.4 * (average_sentence_length + percentage_of_complex_words)\n",
        "fog_index"
      ],
      "metadata": {
        "colab": {
          "base_uri": "https://localhost:8080/"
        },
        "id": "H3Rzq7-l09qg",
        "outputId": "32318360-eab8-4361-e524-a4aead1bbc50"
      },
      "execution_count": 116,
      "outputs": [
        {
          "output_type": "execute_result",
          "data": {
            "text/plain": [
              "203.55555555555557"
            ]
          },
          "metadata": {},
          "execution_count": 116
        }
      ]
    },
    {
      "cell_type": "code",
      "source": [
        "pronounRegex = re.compile(r'\\b(I|we|my|ours|(?-i:us))\\b',re.I)\n",
        "pronouns = pronounRegex.findall(all_text)\n",
        "len(pronouns)"
      ],
      "metadata": {
        "id": "WRUWEpjz8Pn3",
        "colab": {
          "base_uri": "https://localhost:8080/"
        },
        "outputId": "40e61e44-8634-477b-bc9f-1bf11feed7f9"
      },
      "execution_count": 121,
      "outputs": [
        {
          "output_type": "execute_result",
          "data": {
            "text/plain": [
              "1"
            ]
          },
          "metadata": {},
          "execution_count": 121
        }
      ]
    },
    {
      "cell_type": "code",
      "source": [
        "avg_word_len = (len(content)-len(newc))/len(newc)\n",
        "avg_word_len"
      ],
      "metadata": {
        "colab": {
          "base_uri": "https://localhost:8080/"
        },
        "id": "-kRy9NO5MFI6",
        "outputId": "fd477480-b542-452e-fd8c-d721575c0545"
      },
      "execution_count": 131,
      "outputs": [
        {
          "output_type": "execute_result",
          "data": {
            "text/plain": [
              "9.616636528028932"
            ]
          },
          "metadata": {},
          "execution_count": 131
        }
      ]
    },
    {
      "cell_type": "code",
      "source": [
        "output = {\n",
        "    \"URL_ID\":[],\n",
        "    \"URL\":[],\n",
        "    \"POSITIVE SCORE\":[],\n",
        "    \"NEGATIVE SCORE\":[],\n",
        "    \"POLARITY SCORE\":[],\n",
        "    \"SUBJECTIVITY SCORE\":[],\n",
        "    \"AVG SENTENCE LENGTH\":[],\n",
        "    \"PERCENTAGE OF COMPLEX WORDS\":[],\n",
        "    \"FOG INDEX\":[],\n",
        "    \"AVG NUMBER OF WORDS PER SENTENCE\":[],\n",
        "    \"COMPLEX WORD COUNT\":[],\n",
        "    \"WORD COUNT\":[],\n",
        "    \"SYLLABLE PER WORD\":[],\n",
        "    \"PERSONAL PRONOUNS\":[],\n",
        "    \"AVG WORD LENGTH\":[],\n",
        "}"
      ],
      "metadata": {
        "id": "oAGEd6hcMkRa"
      },
      "execution_count": 135,
      "outputs": []
    },
    {
      "cell_type": "code",
      "source": [],
      "metadata": {
        "id": "TjEEEyQMNK0Z"
      },
      "execution_count": 134,
      "outputs": []
    },
    {
      "cell_type": "code",
      "source": [],
      "metadata": {
        "id": "KNvmyP77NPxJ"
      },
      "execution_count": 134,
      "outputs": []
    },
    {
      "cell_type": "code",
      "source": [
        "import requests\n",
        "from bs4 import BeautifulSoup\n",
        "import pandas as pd\n",
        "import string\n",
        "import re\n",
        "import nltk\n",
        "import os\n",
        "\n",
        "nltk.download('stopwords')\n",
        "nltk.download('wordnet')\n",
        "nltk.download('omw-1.4')\n",
        "nltk.download('punkt')\n",
        "\n",
        "punch = string.punctuation\n",
        "\n",
        "df = pd.read_excel(\"/content/Input.xlsx\")\n",
        "headers = {\n",
        "    'User-Agent': 'Mozilla/5.0 (Macintosh; Intel Mac OS X 10.12; rv:55.0) Gecko/20100101 Firefox/55.0',\n",
        "}\n",
        "\n",
        "def clean_text(text):\n",
        "    non_punch = ''\n",
        "    for i in text:\n",
        "        if i not in string.punctuation:\n",
        "            non_punch += i\n",
        "    split_text = re.split('\\W+',non_punch)\n",
        "    stop = nltk.corpus.stopwords.words('english')\n",
        "    wn = nltk.WordNetLemmatizer()\n",
        "    return \" \".join([wn.lemmatize(word).lower() for word in split_text])\n",
        "\n",
        "def newContent(text):\n",
        "  newcontent = []\n",
        "  for item in text.split(\" \"):\n",
        "    if item.upper() not in stopWords:\n",
        "      newcontent.append(item)\n",
        "  return newcontent\n",
        "\n",
        "def count_syllables(word):\n",
        "    word = word.lower()\n",
        "    counter = 0\n",
        "    is_previous_vowel = False\n",
        "    for index, value in enumerate(word):\n",
        "        if value in [\"a\", \"e\", \"i\", \"o\", \"u\", \"y\"]:\n",
        "            if index == len(word) - 1:\n",
        "                if value == \"e\":\n",
        "                    if counter == 0:\n",
        "                        counter += 1\n",
        "                else:\n",
        "                    counter += 1\n",
        "            else:\n",
        "                if is_previous_vowel == True:\n",
        "                    counter += 1\n",
        "                    is_previous_vowel = False\n",
        "                    break\n",
        "            is_previous_vowel = True\n",
        "        else:\n",
        "            if is_previous_vowel == True:\n",
        "                counter += 1\n",
        "            is_previous_vowel = False\n",
        "    return counter\n",
        "\n",
        "\n",
        "path = \"/content/stopwords\"\n",
        "dir_list = os.listdir(path)\n",
        "stopWords = []\n",
        "for p in dir_list:\n",
        "  stopWords += open(path+\"/\"+p,\"r\", encoding='utf-8').read().split(\"\\n\")\n",
        "\n",
        "output = {\n",
        "    \"URL_ID\":[],\n",
        "    \"URL\":[],\n",
        "    \"POSITIVE SCORE\":[],\n",
        "    \"NEGATIVE SCORE\":[],\n",
        "    \"POLARITY SCORE\":[],\n",
        "    \"SUBJECTIVITY SCORE\":[],\n",
        "    \"AVG SENTENCE LENGTH\":[],\n",
        "    \"PERCENTAGE OF COMPLEX WORDS\":[],\n",
        "    \"FOG INDEX\":[],\n",
        "    \"AVG NUMBER OF WORDS PER SENTENCE\":[],\n",
        "    \"COMPLEX WORD COUNT\":[],\n",
        "    \"WORD COUNT\":[],\n",
        "    \"SYLLABLE PER WORD\":[],\n",
        "    \"PERSONAL PRONOUNS\":[],\n",
        "    \"AVG WORD LENGTH\":[],\n",
        "}\n",
        "\n",
        "index = 0\n",
        "url_id_list = list(df[\"URL_ID\"])\n",
        "for url in df[\"URL\"]:\n",
        "\turl_id = url_id_list[index]\n",
        "\tindex += 1\n",
        "\tsource = requests.get(url, headers=headers).text\n",
        "\tdata = BeautifulSoup(source, 'lxml')\n",
        "\ttitle = data.find(\"h1\",class_=\"entry-title\")\n",
        "\tdesc = data.find(\"div\",class_=\"td-post-content\")\n",
        "\tif title is not None:\n",
        "\t\ttitle = title.text\n",
        "\telse:\n",
        "\t\ttitle = \"\"\n",
        "\tif desc is not None:\n",
        "\t\tdesc = desc.text\n",
        "\telse:\n",
        "\t\tdesc = \"\"\n",
        "\tall_text = title+\" \"+desc\n",
        "\tcontent = clean_text(all_text)\n",
        "\tnewc = newContent(content)\n",
        "\tif len(newc) == 0:\n",
        "\t\tcontinue\n",
        "\tpword = open(\"/content/master/positive-words.txt\",\"r\").read().split(\"\\n\")\n",
        "\tnword = open(\"/content/master/negative-words.txt\",\"r\", encoding='utf-8').read().split(\"\\n\")\t\n",
        "\n",
        "\tpositive_score = 0\n",
        "\tnegative_score = 0\n",
        "\n",
        "\tfor word in newc:\n",
        "\t  if word.lower() in pword:\n",
        "\t    positive_score += 1\n",
        "\t  if word.lower() in nword:\n",
        "\t    negative_score += 1\n",
        "\n",
        "\tpolarity_score = (positive_score - negative_score)/ ((positive_score + negative_score) + 0.000001)\n",
        "\tsubjectivity_score = (positive_score + negative_score)/ (len(newc) + 0.000001)\n",
        "\tsentences= nltk.sent_tokenize(\" \".join(all_text))\n",
        "\n",
        "\tcomplex_words = 0\n",
        "\tfor word in newc:\n",
        "\t  if count_syllables(word) > 2:\n",
        "\t    complex_words += 1\n",
        "\n",
        "\tpercent_complex_Word = (complex_words*100)/len(newc)\n",
        "\n",
        "\tsyllables_per_word = complex_words/len(newc)\n",
        "\taverage_sentence_length = len(newc)/len(sentences)\n",
        "\tfog_index = 0.4 * (average_sentence_length + complex_words)\n",
        "\tpronounRegex = re.compile(r'\\b(I|we|my|ours|(?-i:us))\\b',re.I)\n",
        "\tpersonal_pronouns = len(pronounRegex.findall(all_text))\n",
        "\tavg_word_len = (len(content)-len(newc))/len(newc)\n",
        "\t\n",
        "\tsents = all_text.split('.')\n",
        "\tavg_sent_len = sum(len(x.split()) for x in sents) / len(sents)\n",
        "\n",
        "\toutput[\"URL_ID\"].append(url_id)\n",
        "\toutput[\"URL\"].append(url)\n",
        "\toutput[\"POSITIVE SCORE\"].append(positive_score)\n",
        "\toutput[\"NEGATIVE SCORE\"].append(-negative_score)\n",
        "\toutput[\"POLARITY SCORE\"].append(polarity_score)\n",
        "\toutput[\"SUBJECTIVITY SCORE\"].append(subjectivity_score)\n",
        "\toutput[\"AVG SENTENCE LENGTH\"].append(avg_sent_len)\n",
        "\toutput[\"PERCENTAGE OF COMPLEX WORDS\"].append(percent_complex_Word)\n",
        "\toutput[\"FOG INDEX\"].append(fog_index)\n",
        "\toutput[\"AVG NUMBER OF WORDS PER SENTENCE\"].append(average_sentence_length)\n",
        "\toutput[\"COMPLEX WORD COUNT\"].append(complex_words)\n",
        "\toutput[\"WORD COUNT\"].append(len(newc))\n",
        "\toutput[\"SYLLABLE PER WORD\"].append(syllables_per_word)\n",
        "\toutput[\"PERSONAL PRONOUNS\"].append(personal_pronouns)\n",
        "\toutput[\"AVG WORD LENGTH\"].append(avg_word_len)\n",
        "\t\n",
        "output_df = pd.DataFrame(output)\n",
        "output_df.to_excel(\"Output_Data_Structure.xlsx\")\n",
        "print(\"output saved!\")"
      ],
      "metadata": {
        "colab": {
          "base_uri": "https://localhost:8080/"
        },
        "id": "2hOv4NeKN5cC",
        "outputId": "467f4faf-7ff1-45eb-9d94-7f524c9661c7"
      },
      "execution_count": 175,
      "outputs": [
        {
          "output_type": "stream",
          "name": "stderr",
          "text": [
            "[nltk_data] Downloading package stopwords to /root/nltk_data...\n",
            "[nltk_data]   Package stopwords is already up-to-date!\n",
            "[nltk_data] Downloading package wordnet to /root/nltk_data...\n",
            "[nltk_data]   Package wordnet is already up-to-date!\n",
            "[nltk_data] Downloading package omw-1.4 to /root/nltk_data...\n",
            "[nltk_data]   Package omw-1.4 is already up-to-date!\n",
            "[nltk_data] Downloading package punkt to /root/nltk_data...\n",
            "[nltk_data]   Package punkt is already up-to-date!\n"
          ]
        },
        {
          "output_type": "stream",
          "name": "stdout",
          "text": [
            "output saved!\n"
          ]
        }
      ]
    },
    {
      "cell_type": "code",
      "source": [
        "odf = pd.DataFrame(output)"
      ],
      "metadata": {
        "id": "8D9pTfUHTWuy"
      },
      "execution_count": 168,
      "outputs": []
    },
    {
      "cell_type": "code",
      "source": [
        "odf.head()"
      ],
      "metadata": {
        "colab": {
          "base_uri": "https://localhost:8080/",
          "height": 409
        },
        "id": "pfX_a09vVaL6",
        "outputId": "ff1d5df5-4a60-45b7-9d61-71e74afc4bc6"
      },
      "execution_count": 169,
      "outputs": [
        {
          "output_type": "execute_result",
          "data": {
            "text/plain": [
              "   URL_ID                                                URL  POSITIVE SCORE  \\\n",
              "0    37.0  https://insights.blackcoffer.com/ai-in-healthc...              88   \n",
              "1    38.0  https://insights.blackcoffer.com/what-if-the-c...              84   \n",
              "2    39.0  https://insights.blackcoffer.com/what-jobs-wil...              76   \n",
              "3    40.0  https://insights.blackcoffer.com/will-machine-...              84   \n",
              "4    41.0  https://insights.blackcoffer.com/will-ai-repla...              67   \n",
              "\n",
              "   NEGATIVE SCORE  POLARITY SCORE  SUBJECTIVITY SCORE  AVG SENTENCE LENGTH  \\\n",
              "0             -33        0.454545            0.109403            23.064103   \n",
              "1             -38        0.377049            0.162667            20.028169   \n",
              "2             -41        0.299145            0.120247            20.117647   \n",
              "3             -32        0.448276            0.137441            20.012048   \n",
              "4             -30        0.381443            0.098079            21.414634   \n",
              "\n",
              "   PERCENTAGE OF COMPLEX WORDS   FOG INDEX  AVG NUMBER OF WORDS PER SENTENCE  \\\n",
              "0                    34.900542  203.555556                        122.888889   \n",
              "1                    26.266667   98.800000                         50.000000   \n",
              "2                    37.307297  274.933333                        324.333333   \n",
              "3                    25.473934  103.768421                         44.421053   \n",
              "4                    28.210313  134.870588                         58.176471   \n",
              "\n",
              "   COMPLEX WORD COUNT  WORD COUNT  SYLLABLE PER WORD  PERSONAL PRONOUNS  \\\n",
              "0                 386        1106           0.349005                  1   \n",
              "1                 197         750           0.262667                  7   \n",
              "2                 363         973           0.373073                  3   \n",
              "3                 215         844           0.254739                 17   \n",
              "4                 279         989           0.282103                 16   \n",
              "\n",
              "   AVG WORD LENGTH  \n",
              "0         9.616637  \n",
              "1         9.854667  \n",
              "2        10.053443  \n",
              "3        10.219194  \n",
              "4         9.555106  "
            ],
            "text/html": [
              "\n",
              "  <div id=\"df-6816569a-95d4-42db-b284-0d3f171bc97e\">\n",
              "    <div class=\"colab-df-container\">\n",
              "      <div>\n",
              "<style scoped>\n",
              "    .dataframe tbody tr th:only-of-type {\n",
              "        vertical-align: middle;\n",
              "    }\n",
              "\n",
              "    .dataframe tbody tr th {\n",
              "        vertical-align: top;\n",
              "    }\n",
              "\n",
              "    .dataframe thead th {\n",
              "        text-align: right;\n",
              "    }\n",
              "</style>\n",
              "<table border=\"1\" class=\"dataframe\">\n",
              "  <thead>\n",
              "    <tr style=\"text-align: right;\">\n",
              "      <th></th>\n",
              "      <th>URL_ID</th>\n",
              "      <th>URL</th>\n",
              "      <th>POSITIVE SCORE</th>\n",
              "      <th>NEGATIVE SCORE</th>\n",
              "      <th>POLARITY SCORE</th>\n",
              "      <th>SUBJECTIVITY SCORE</th>\n",
              "      <th>AVG SENTENCE LENGTH</th>\n",
              "      <th>PERCENTAGE OF COMPLEX WORDS</th>\n",
              "      <th>FOG INDEX</th>\n",
              "      <th>AVG NUMBER OF WORDS PER SENTENCE</th>\n",
              "      <th>COMPLEX WORD COUNT</th>\n",
              "      <th>WORD COUNT</th>\n",
              "      <th>SYLLABLE PER WORD</th>\n",
              "      <th>PERSONAL PRONOUNS</th>\n",
              "      <th>AVG WORD LENGTH</th>\n",
              "    </tr>\n",
              "  </thead>\n",
              "  <tbody>\n",
              "    <tr>\n",
              "      <th>0</th>\n",
              "      <td>37.0</td>\n",
              "      <td>https://insights.blackcoffer.com/ai-in-healthc...</td>\n",
              "      <td>88</td>\n",
              "      <td>-33</td>\n",
              "      <td>0.454545</td>\n",
              "      <td>0.109403</td>\n",
              "      <td>23.064103</td>\n",
              "      <td>34.900542</td>\n",
              "      <td>203.555556</td>\n",
              "      <td>122.888889</td>\n",
              "      <td>386</td>\n",
              "      <td>1106</td>\n",
              "      <td>0.349005</td>\n",
              "      <td>1</td>\n",
              "      <td>9.616637</td>\n",
              "    </tr>\n",
              "    <tr>\n",
              "      <th>1</th>\n",
              "      <td>38.0</td>\n",
              "      <td>https://insights.blackcoffer.com/what-if-the-c...</td>\n",
              "      <td>84</td>\n",
              "      <td>-38</td>\n",
              "      <td>0.377049</td>\n",
              "      <td>0.162667</td>\n",
              "      <td>20.028169</td>\n",
              "      <td>26.266667</td>\n",
              "      <td>98.800000</td>\n",
              "      <td>50.000000</td>\n",
              "      <td>197</td>\n",
              "      <td>750</td>\n",
              "      <td>0.262667</td>\n",
              "      <td>7</td>\n",
              "      <td>9.854667</td>\n",
              "    </tr>\n",
              "    <tr>\n",
              "      <th>2</th>\n",
              "      <td>39.0</td>\n",
              "      <td>https://insights.blackcoffer.com/what-jobs-wil...</td>\n",
              "      <td>76</td>\n",
              "      <td>-41</td>\n",
              "      <td>0.299145</td>\n",
              "      <td>0.120247</td>\n",
              "      <td>20.117647</td>\n",
              "      <td>37.307297</td>\n",
              "      <td>274.933333</td>\n",
              "      <td>324.333333</td>\n",
              "      <td>363</td>\n",
              "      <td>973</td>\n",
              "      <td>0.373073</td>\n",
              "      <td>3</td>\n",
              "      <td>10.053443</td>\n",
              "    </tr>\n",
              "    <tr>\n",
              "      <th>3</th>\n",
              "      <td>40.0</td>\n",
              "      <td>https://insights.blackcoffer.com/will-machine-...</td>\n",
              "      <td>84</td>\n",
              "      <td>-32</td>\n",
              "      <td>0.448276</td>\n",
              "      <td>0.137441</td>\n",
              "      <td>20.012048</td>\n",
              "      <td>25.473934</td>\n",
              "      <td>103.768421</td>\n",
              "      <td>44.421053</td>\n",
              "      <td>215</td>\n",
              "      <td>844</td>\n",
              "      <td>0.254739</td>\n",
              "      <td>17</td>\n",
              "      <td>10.219194</td>\n",
              "    </tr>\n",
              "    <tr>\n",
              "      <th>4</th>\n",
              "      <td>41.0</td>\n",
              "      <td>https://insights.blackcoffer.com/will-ai-repla...</td>\n",
              "      <td>67</td>\n",
              "      <td>-30</td>\n",
              "      <td>0.381443</td>\n",
              "      <td>0.098079</td>\n",
              "      <td>21.414634</td>\n",
              "      <td>28.210313</td>\n",
              "      <td>134.870588</td>\n",
              "      <td>58.176471</td>\n",
              "      <td>279</td>\n",
              "      <td>989</td>\n",
              "      <td>0.282103</td>\n",
              "      <td>16</td>\n",
              "      <td>9.555106</td>\n",
              "    </tr>\n",
              "  </tbody>\n",
              "</table>\n",
              "</div>\n",
              "      <button class=\"colab-df-convert\" onclick=\"convertToInteractive('df-6816569a-95d4-42db-b284-0d3f171bc97e')\"\n",
              "              title=\"Convert this dataframe to an interactive table.\"\n",
              "              style=\"display:none;\">\n",
              "        \n",
              "  <svg xmlns=\"http://www.w3.org/2000/svg\" height=\"24px\"viewBox=\"0 0 24 24\"\n",
              "       width=\"24px\">\n",
              "    <path d=\"M0 0h24v24H0V0z\" fill=\"none\"/>\n",
              "    <path d=\"M18.56 5.44l.94 2.06.94-2.06 2.06-.94-2.06-.94-.94-2.06-.94 2.06-2.06.94zm-11 1L8.5 8.5l.94-2.06 2.06-.94-2.06-.94L8.5 2.5l-.94 2.06-2.06.94zm10 10l.94 2.06.94-2.06 2.06-.94-2.06-.94-.94-2.06-.94 2.06-2.06.94z\"/><path d=\"M17.41 7.96l-1.37-1.37c-.4-.4-.92-.59-1.43-.59-.52 0-1.04.2-1.43.59L10.3 9.45l-7.72 7.72c-.78.78-.78 2.05 0 2.83L4 21.41c.39.39.9.59 1.41.59.51 0 1.02-.2 1.41-.59l7.78-7.78 2.81-2.81c.8-.78.8-2.07 0-2.86zM5.41 20L4 18.59l7.72-7.72 1.47 1.35L5.41 20z\"/>\n",
              "  </svg>\n",
              "      </button>\n",
              "      \n",
              "  <style>\n",
              "    .colab-df-container {\n",
              "      display:flex;\n",
              "      flex-wrap:wrap;\n",
              "      gap: 12px;\n",
              "    }\n",
              "\n",
              "    .colab-df-convert {\n",
              "      background-color: #E8F0FE;\n",
              "      border: none;\n",
              "      border-radius: 50%;\n",
              "      cursor: pointer;\n",
              "      display: none;\n",
              "      fill: #1967D2;\n",
              "      height: 32px;\n",
              "      padding: 0 0 0 0;\n",
              "      width: 32px;\n",
              "    }\n",
              "\n",
              "    .colab-df-convert:hover {\n",
              "      background-color: #E2EBFA;\n",
              "      box-shadow: 0px 1px 2px rgba(60, 64, 67, 0.3), 0px 1px 3px 1px rgba(60, 64, 67, 0.15);\n",
              "      fill: #174EA6;\n",
              "    }\n",
              "\n",
              "    [theme=dark] .colab-df-convert {\n",
              "      background-color: #3B4455;\n",
              "      fill: #D2E3FC;\n",
              "    }\n",
              "\n",
              "    [theme=dark] .colab-df-convert:hover {\n",
              "      background-color: #434B5C;\n",
              "      box-shadow: 0px 1px 3px 1px rgba(0, 0, 0, 0.15);\n",
              "      filter: drop-shadow(0px 1px 2px rgba(0, 0, 0, 0.3));\n",
              "      fill: #FFFFFF;\n",
              "    }\n",
              "  </style>\n",
              "\n",
              "      <script>\n",
              "        const buttonEl =\n",
              "          document.querySelector('#df-6816569a-95d4-42db-b284-0d3f171bc97e button.colab-df-convert');\n",
              "        buttonEl.style.display =\n",
              "          google.colab.kernel.accessAllowed ? 'block' : 'none';\n",
              "\n",
              "        async function convertToInteractive(key) {\n",
              "          const element = document.querySelector('#df-6816569a-95d4-42db-b284-0d3f171bc97e');\n",
              "          const dataTable =\n",
              "            await google.colab.kernel.invokeFunction('convertToInteractive',\n",
              "                                                     [key], {});\n",
              "          if (!dataTable) return;\n",
              "\n",
              "          const docLinkHtml = 'Like what you see? Visit the ' +\n",
              "            '<a target=\"_blank\" href=https://colab.research.google.com/notebooks/data_table.ipynb>data table notebook</a>'\n",
              "            + ' to learn more about interactive tables.';\n",
              "          element.innerHTML = '';\n",
              "          dataTable['output_type'] = 'display_data';\n",
              "          await google.colab.output.renderOutput(dataTable, element);\n",
              "          const docLink = document.createElement('div');\n",
              "          docLink.innerHTML = docLinkHtml;\n",
              "          element.appendChild(docLink);\n",
              "        }\n",
              "      </script>\n",
              "    </div>\n",
              "  </div>\n",
              "  "
            ]
          },
          "metadata": {},
          "execution_count": 169
        }
      ]
    },
    {
      "cell_type": "code",
      "source": [
        "odf.to_excel(\"Output_Data_Structure.xlsx\")"
      ],
      "metadata": {
        "id": "xqQVPc4dVqFK"
      },
      "execution_count": 170,
      "outputs": []
    },
    {
      "cell_type": "code",
      "source": [],
      "metadata": {
        "id": "5ZMxP0UgVfyK"
      },
      "execution_count": null,
      "outputs": []
    }
  ]
}